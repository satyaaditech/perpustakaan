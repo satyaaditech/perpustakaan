{
 "cells": [
  {
   "cell_type": "markdown",
   "id": "689218f9",
   "metadata": {},
   "source": [
    "# OLAHRASA\n",
    "\n",
    "<audio controls>\n",
    "  <!-- <source src=\"horse.ogg\" type=\"audio/ogg\"> -->\n",
    "  <source src=\"https://ccrma.stanford.edu/workshops/mir2014/audio/Stairway%20To%20Heaven.mp3\" type=\"audio/mpeg\">\n",
    "Your browser does not support the audio element.\n",
    "</audio>\n",
    "\n",
    "\n",
    "[lagu](https://ccrma.stanford.edu/workshops/mir2014/audio/Stairway%20To%20Heaven.mp3)"
   ]
  }
 ],
 "metadata": {
  "jupytext": {
   "text_representation": {
    "extension": ".md",
    "format_name": "myst",
    "format_version": 0.13,
    "jupytext_version": "1.11.5"
   }
  },
  "kernelspec": {
   "display_name": "Python 3",
   "language": "python",
   "name": "python3"
  },
  "language_info": {
   "codemirror_mode": {
    "name": "ipython",
    "version": 3
   },
   "file_extension": ".py",
   "mimetype": "text/x-python",
   "name": "python",
   "nbconvert_exporter": "python",
   "pygments_lexer": "ipython3",
   "version": "3.9.13"
  },
  "source_map": [
   12
  ]
 },
 "nbformat": 4,
 "nbformat_minor": 5
}